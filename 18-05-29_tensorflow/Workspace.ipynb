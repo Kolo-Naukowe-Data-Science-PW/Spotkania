{
 "cells": [
  {
   "cell_type": "code",
   "execution_count": 1,
   "metadata": {},
   "outputs": [],
   "source": [
    "%matplotlib inline\n",
    "import numpy as np\n",
    "import pandas as pd\n",
    "import seaborn as sns\n",
    "import matplotlib.pyplot as plt\n",
    "import tensorflow as tf"
   ]
  },
  {
   "cell_type": "code",
   "execution_count": 2,
   "metadata": {},
   "outputs": [],
   "source": [
    "\n",
    "def sigmoid(x):\n",
    "    return 1/(1+np.exp(-x))\n",
    "  \n",
    "def ReLU(x):\n",
    "    #TODO\n",
    "    pass\n",
    "\n",
    "def softmax(x):\n",
    "    #TODO\n",
    "    pass\n",
    "\n",
    "def costFunction(Y, P):\n",
    "    n = Y.shape[0]\n",
    "    cost = 1/n*-np.sum(Y * np.log(P) + (1-Y) * np.log(1-P))\n",
    "    return cost"
   ]
  },
  {
   "cell_type": "code",
   "execution_count": 216,
   "metadata": {},
   "outputs": [],
   "source": [
    "class Neural:\n",
    "\n",
    "    class Layer:\n",
    "        def __init__(self, inputLength, outputLength):\n",
    "            self.weight = np.random.normal(0,1,(inputLength+1, outputLength))\n",
    "        \n",
    "        def feedforward(self, inputMatrix):\n",
    "            A = np.c_[np.ones((inputMatrix.shape[0],1)), inputMatrix]\n",
    "            return sigmoid(A @ self.weight)\n",
    "        \n",
    "        def feedbackward(self, inputVector, delta, learningRate, ridgeRegressionRate):\n",
    "            a = np.c_[1,inputVector]\n",
    "            newDelta = (delta.reshape(1,-1) @ self.weight.transpose()) * a * (1 - a)\n",
    "            self.weight[1:,:] -= ridgeRegressionRate*self.weight[1:,:]\n",
    "            self.weight += learningRate*np.outer(a, delta)\n",
    "            return newDelta\n",
    "            \n",
    "\n",
    "    def __init__(self, layerSizes, activationFunction = sigmoid):\n",
    "        self.Layers = []\n",
    "        n = len(layerSizes)\n",
    "        for i in range(1,n):\n",
    "            self.Layers.append(self.Layer(layerSizes[i-1],layerSizes[i]))\n",
    "\n",
    "    def feedForward(self, inputMatrix):\n",
    "        output = inputMatrix\n",
    "        for layer in self.Layers:\n",
    "            output = sigmoid(layer.feedforward(output))\n",
    "        return output\n",
    "\n",
    "    def train(self, trainingSet, trainingLabels, alpha, lmbd, epochs):\n",
    "        n = len(self.Layers)\n",
    "        N = trainingSet.shape[0]\n",
    "        for epoch in range(epochs):\n",
    "            for k in range(N):\n",
    "                x = trainingSet[k,:].reshape(1,-1)\n",
    "                y = trainingLabels[k,:].reshape(1,-1)\n",
    "                a = [x]\n",
    "                for i in range(0, n):\n",
    "                    a.append(self.Layers[i].feedforward(a[i]))\n",
    "                delta = y - a[-1]\n",
    "                for i in range(n-1,-1,-1):\n",
    "                    delta = self.Layers[i].feedbackward(a[i], delta, alpha, lmbd)\n",
    "                    delta = delta[:,1:]\n",
    "            print(\"Epoch: {0}, Cost: {1}\".format(epoch, costFunction(trainingLabels, self.feedForward(trainingSet))))\n",
    "            \n",
    "    def test(self, X, Y):\n",
    "        return \"Accuracy: {0}\".format(np.sum(self.feedForward(X).argmax(axis=1)==Y.argmax(axis=1))/Y.shape[0])"
   ]
  },
  {
   "cell_type": "code",
   "execution_count": 217,
   "metadata": {},
   "outputs": [
    {
     "name": "stdout",
     "output_type": "stream",
     "text": [
      "Extracting MNIST_data/train-images-idx3-ubyte.gz\n",
      "Extracting MNIST_data/train-labels-idx1-ubyte.gz\n",
      "Extracting MNIST_data/t10k-images-idx3-ubyte.gz\n",
      "Extracting MNIST_data/t10k-labels-idx1-ubyte.gz\n",
      "(55000, 784)\n",
      "(10000, 784)\n"
     ]
    },
    {
     "data": {
      "image/png": "[encoded data removed]",
      "text/plain": [
       "<matplotlib.figure.Figure at 0x7f3f2ed391d0>"
      ]
     },
     "metadata": {},
     "output_type": "display_data"
    }
   ],
   "source": [
    "from tensorflow.examples.tutorials.mnist import input_data\n",
    "mnist = input_data.read_data_sets(\"MNIST_data/\", one_hot=True)\n",
    "X_train = mnist.train.images\n",
    "X_test = mnist.test.images\n",
    "Y_train = mnist.train.labels\n",
    "Y_test = mnist.test.labels\n",
    "print(X_train.shape)\n",
    "print(X_test.shape)\n",
    "plt.imshow(X_train[0,:].reshape(28,28), cmap = 'gray')\n",
    "plt.show()"
   ]
  },
  {
   "cell_type": "code",
   "execution_count": 240,
   "metadata": {},
   "outputs": [],
   "source": [
    "nn = Neural([784, 20, 10])"
   ]
  },
  {
   "cell_type": "code",
   "execution_count": 241,
   "metadata": {},
   "outputs": [
    {
     "data": {
      "text/plain": [
       "array([[0.71032814, 0.582376  , 0.70793406, 0.72974157, 0.51427689,\n",
       "        0.53922683, 0.68678141, 0.71343512, 0.5721897 , 0.50847384]])"
      ]
     },
     "execution_count": 241,
     "metadata": {},
     "output_type": "execute_result"
    }
   ],
   "source": [
    "nn.feedForward(X_train[0,:].reshape(1,-1))"
   ]
  },
  {
   "cell_type": "code",
   "execution_count": 242,
   "metadata": {
    "scrolled": true
   },
   "outputs": [
    {
     "data": {
      "text/plain": [
       "9.545759045753208"
      ]
     },
     "execution_count": 242,
     "metadata": {},
     "output_type": "execute_result"
    }
   ],
   "source": [
    "costFunction(Y_train,nn.feedForward(X_train))"
   ]
  },
  {
   "cell_type": "code",
   "execution_count": null,
   "metadata": {
    "scrolled": false
   },
   "outputs": [
    {
     "name": "stdout",
     "output_type": "stream",
     "text": [
      "Epoch: 0, Cost: 6.937940175070762\n",
      "Epoch: 1, Cost: 6.93744081154904\n"
     ]
    }
   ],
   "source": [
    "nn.train(X_train, Y_train, 0.1, 0.0001, 4)\n",
    "print(nn.test(X_train, Y_train))\n",
    "print(nn.test(X_test, Y_test))"
   ]
  },
  {
   "cell_type": "code",
   "execution_count": 19,
   "metadata": {},
   "outputs": [],
   "source": [
    "save_err = np.seterr(all='call')"
   ]
  },
  {
   "cell_type": "code",
   "execution_count": 143,
   "metadata": {},
   "outputs": [],
   "source": [
    "singleLayerNeuralNetwork = Neural([784, 10])"
   ]
  },
  {
   "cell_type": "code",
   "execution_count": 151,
   "metadata": {},
   "outputs": [
    {
     "name": "stdout",
     "output_type": "stream",
     "text": [
      "Epoch: 0, Cost: 6.698593887642146\n",
      "Epoch: 1, Cost: 6.697728492211584\n",
      "Epoch: 2, Cost: 6.696970979123581\n",
      "Epoch: 3, Cost: 6.696301760658615\n",
      "Epoch: 4, Cost: 6.695706105141086\n"
     ]
    }
   ],
   "source": [
    "singleLayerNeuralNetwork.train(X_train, Y_train, 0.005, 5)\n",
    "print(singleLayerNeuralNetwork.test(X_train, Y_train))\n",
    "print(singleLayerNeuralNetwork.test(X_test, Y_test))"
   ]
  },
  {
   "cell_type": "code",
   "execution_count": 155,
   "metadata": {},
   "outputs": [
    {
     "name": "stdout",
     "output_type": "stream",
     "text": [
      "Accuracy: 0.9098909090909091\n",
      "Accuracy: 0.9091\n"
     ]
    }
   ],
   "source": []
  },
  {
   "cell_type": "code",
   "execution_count": null,
   "metadata": {},
   "outputs": [],
   "source": []
  }
 ],
 "metadata": {
  "kernelspec": {
   "display_name": "Python 3",
   "language": "python",
   "name": "python3"
  },
  "language_info": {
   "codemirror_mode": {
    "name": "ipython",
    "version": 3
   },
   "file_extension": ".py",
   "mimetype": "text/x-python",
   "name": "python",
   "nbconvert_exporter": "python",
   "pygments_lexer": "ipython3",
   "version": "3.6.4"
  }
 },
 "nbformat": 4,
 "nbformat_minor": 2
}
