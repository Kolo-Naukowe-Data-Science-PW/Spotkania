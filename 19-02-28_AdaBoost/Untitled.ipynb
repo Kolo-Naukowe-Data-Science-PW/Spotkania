{
 "cells": [
  {
   "cell_type": "markdown",
   "metadata": {},
   "source": [
    "# Warsztaty KNDS 28.02.2019\n",
    "## AdaBoost, czyli adaptative boosting"
   ]
  },
  {
   "cell_type": "markdown",
   "metadata": {},
   "source": [
    "### Wizualizacja"
   ]
  },
  {
   "cell_type": "code",
   "execution_count": 3,
   "metadata": {},
   "outputs": [],
   "source": [
    "import numpy as np\n",
    "import seaborn as sns\n",
    "from scipy.stats import norm"
   ]
  },
  {
   "cell_type": "code",
   "execution_count": 4,
   "metadata": {},
   "outputs": [],
   "source": [
    "p = np.arange(0.001,1,0.001)\n",
    "y1 = p\n",
    "y10 = 1 - norm.cdf(- 10**0.5 / 2 * (2*p-1)/np.sqrt(p*(1-p)))\n",
    "y100 = 1 - norm.cdf(- 100**0.5 / 2 * (2*p-1)/np.sqrt(p*(1-p)))\n",
    "y1000 = 1 - norm.cdf(- 1000**0.5 / 2 * (2*p-1)/np.sqrt(p*(1-p)))\n",
    "y1000000 = 1 - norm.cdf(- 1000000**0.5 / 2 * (2*p-1)/np.sqrt(p*(1-p)))"
   ]
  },
  {
   "cell_type": "code",
   "execution_count": 8,
   "metadata": {
    "scrolled": true
   },
   "outputs": [
    {
     "data": {
      "text/plain": [
       "<matplotlib.axes._subplots.AxesSubplot at 0x18fea4e3f28>"
      ]
     },
     "execution_count": 8,
     "metadata": {},
     "output_type": "execute_result"
    },
    {
     "data": {
      "image/png": "[encoded data removed]",
      "text/plain": [
       "<Figure size 432x288 with 1 Axes>"
      ]
     },
     "metadata": {
      "needs_background": "light"
     },
     "output_type": "display_data"
    }
   ],
   "source": [
    "sns.lineplot(p,p)\n",
    "sns.lineplot(p,y10)\n",
    "sns.lineplot(p,y100)\n",
    "sns.lineplot(p,y1000)\n",
    "sns.lineplot(p,y1000000)"
   ]
  },
  {
   "cell_type": "markdown",
   "metadata": {},
   "source": [
    "### AdaBoost algorytm"
   ]
  },
  {
   "cell_type": "markdown",
   "metadata": {},
   "source": [
    "* klasyfikator binarny zwraca 1 i -1\n",
    "* wagi równe i sumujące się do 1\n",
    "* dla każdego klasyfikatora:\n",
    "    * uczymy w sposób ważony na zbiorze uczącym\n",
    "    * liczymy $y_{pred}$\n",
    "    * liczymy ważoną stopę błędu $e_i =  \\sum w \\cdot (y_{pred} != y)$\n",
    "    * $\\alpha_i = 0.5log(\\frac{1-e_i}{e_i})$\n",
    "    * aktualizacja wag: $w:= w \\cdot exp(-\\alpha_i y_{pred} \\cdot y)$\n",
    "    * normalizacja wag\n",
    "* $\\sum \\alpha_i predict(x)$"
   ]
  },
  {
   "cell_type": "markdown",
   "metadata": {},
   "source": [
    "## AdaBoost implementacja"
   ]
  },
  {
   "cell_type": "code",
   "execution_count": 10,
   "metadata": {},
   "outputs": [],
   "source": [
    "class AdaBoostKNDS():\n",
    "    def __init__(self,base_estimator,n_estimator = 50, **kwargs):\n",
    "        self.base_estimator = base_estimator\n",
    "        self.n_estimator = n_estimator\n",
    "        self.kwargs = kwargs\n",
    "        \n",
    "    def fit(X,y):\n",
    "        sample_weight = np.ones(X.shape[0])/X.shape[0]\n",
    "        \n",
    "        self.coef = np.empty(self.n_estimator)\n",
    "        \n",
    "        self.clf = [self.base_estimator(**kwargs) for i in range(self.n_estimator)]\n",
    "        \n",
    "        for i in range(self.n_estimator):\n",
    "            self.clf[i].fit(X,y,sample_weight)\n",
    "            y_pred = self.clf[i].predict(X)\n",
    "            \n",
    "            w_e = np.sum(w * (y_pred != y))\n",
    "            self.coef[i] = 0.5 * np.log((1-w_e)/w_e)\n",
    "            \n",
    "            sample_weight = sample_weight * np.exp(-self.coef[i] * y_pred * y)\n",
    "            \n",
    "            sample_weight = sample_weight / np.sum(sample_weight)\n",
    "            \n",
    "    def predict(X):\n",
    "        result = np.zeros(X.shape[0])\n",
    "        \n",
    "        for i in range(self.n_estimator):\n",
    "            result += self.coef[i] * self.clf[i].predict(X)\n",
    "            \n",
    "        return (result>=0).astype(int)"
   ]
  },
  {
   "cell_type": "markdown",
   "metadata": {},
   "source": [
    "### Plot decision regions"
   ]
  },
  {
   "cell_type": "code",
   "execution_count": 14,
   "metadata": {},
   "outputs": [],
   "source": [
    "from matplotlib.colors import ListedColormap\n",
    "import matplotlib.pyplot as plt\n",
    "def plot_decision_regions(X,y,clf,resolution=0.02):\n",
    "    \"\"\"\n",
    "    The function plots decision regions on 2D plain given the data to plot: matrix X and vector y;\n",
    "    and trained classifier clf. The data should be standarized.\n",
    "    \"\"\"\n",
    "    \n",
    "    # setting constants\n",
    "    markers = ('s','x','o','^','v')\n",
    "    colors = ('red','blue','lightgreen','gray','cyan')\n",
    "    cmap = ListedColormap(colors[:len(np.unique(y))])\n",
    "    \n",
    "    # setting frame sizes\n",
    "    x1_min, x1_max = X[:,0].min() - 0.25, X[:,0].max() + 0.25\n",
    "    x2_min, x2_max = X[:,1].min() - 0.25, X[:,1].max() + 0.25\n",
    "    \n",
    "    # grid\n",
    "    xx1,xx2 = np.meshgrid(np.arange(x1_min,x1_max,resolution),\n",
    "                         np.arange(x2_min,x2_max,resolution))\n",
    "    \n",
    "    # prediction of every point on the grid\n",
    "    Z = clf.predict(np.array([xx1.ravel(), xx2.ravel()]).transpose())\n",
    "    Z = Z.reshape(xx1.shape)\n",
    "    \n",
    "    # filling regions\n",
    "    plt.contourf(xx1,xx2,Z,alpha=0.4, cmap=cmap)\n",
    "    plt.xlim(xx1.min(), xx1.max())\n",
    "    plt.ylim(xx2.min(), xx2.max())\n",
    "    \n",
    "    # displaying points from X\n",
    "    for idx, cl in  enumerate(np.unique(y)):\n",
    "        plt.scatter(x=X[y == cl, 0], y=X[y == cl,1],\n",
    "                   alpha=0.8,c=cmap(idx),\n",
    "                   marker=markers[idx],\n",
    "                   label=cl, s=2)"
   ]
  },
  {
   "cell_type": "markdown",
   "metadata": {},
   "source": [
    "## Testy"
   ]
  },
  {
   "cell_type": "code",
   "execution_count": 13,
   "metadata": {},
   "outputs": [],
   "source": [
    "import sklearn.datasets\n",
    "from sklearn.model_selection import train_test_split"
   ]
  },
  {
   "cell_type": "code",
   "execution_count": 12,
   "metadata": {},
   "outputs": [],
   "source": [
    "cancer = sklearn.datasets.load_breast_cancer()\n",
    "X = np.array(X)\n",
    "y = np.array(y)\n"
   ]
  },
  {
   "cell_type": "code",
   "execution_count": null,
   "metadata": {},
   "outputs": [],
   "source": []
  }
 ],
 "metadata": {
  "kernelspec": {
   "display_name": "Python 3",
   "language": "python",
   "name": "python3"
  },
  "language_info": {
   "codemirror_mode": {
    "name": "ipython",
    "version": 3
   },
   "file_extension": ".py",
   "mimetype": "text/x-python",
   "name": "python",
   "nbconvert_exporter": "python",
   "pygments_lexer": "ipython3",
   "version": "3.7.1"
  }
 },
 "nbformat": 4,
 "nbformat_minor": 2
}
