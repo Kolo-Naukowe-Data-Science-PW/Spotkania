{
 "cells": [
  {
   "cell_type": "markdown",
   "metadata": {},
   "source": [
    "# Regresja liniowa przy użyciu pakietu scikit-learn\n",
    "Dane pochodzą z https://www.kaggle.com/c/house-prices-advanced-regression-techniques/data"
   ]
  },
  {
   "cell_type": "code",
   "execution_count": 1,
   "metadata": {},
   "outputs": [],
   "source": [
    "import numpy as np\n",
    "import pandas as pd\n",
    "from sklearn.preprocessing import Imputer, StandardScaler\n",
    "from sklearn.model_selection import cross_val_score\n",
    "from sklearn.decomposition import PCA\n",
    "from sklearn.linear_model import LinearRegression\n",
    "from sklearn.pipeline import Pipeline\n",
    "import matplotlib.pyplot as plt"
   ]
  },
  {
   "cell_type": "code",
   "execution_count": 2,
   "metadata": {},
   "outputs": [],
   "source": [
    "df = pd.read_csv('train.csv') #wczytanie danych\n",
    "\n",
    "df = pd.get_dummies(df) #one hot enconding dla danych kategoryzujacych - stringow\n",
    "\n",
    "X_train = df.loc[:,df.columns != 'SalePrice']\n",
    "y_train = df.loc[:,'SalePrice']\n",
    "\n",
    "imr = Imputer(missing_values='NaN', strategy='mean', axis=0)\n",
    "X_train = imr.fit_transform(X_train.values) #uzupelnienie NaN"
   ]
  },
  {
   "cell_type": "markdown",
   "metadata": {},
   "source": [
    "### użycie kolejki"
   ]
  },
  {
   "cell_type": "code",
   "execution_count": 3,
   "metadata": {},
   "outputs": [],
   "source": [
    "#przetwarzanie danych zamykamy  w kolejce\n",
    "#kolejka analizie pca poddaje jedynie zbior X, a lr szuka liniowej kombinacji cech bez wyrazu wolnego, tak wiec w celu uzyskania,\n",
    "#dokladnego wyniku nalezaloby rowniez przeskalowac ceny mieszkan co bedzie zrobione dalej, tu sam przyklad uzycia kolejki\n",
    "pipe_lr = Pipeline([('stdsc', StandardScaler()), #do standaryzacji cech\n",
    "                   ('pca', PCA(n_components=100)), #principal components analysis, zamiast SBS\n",
    "                   ('lr', LinearRegression(n_jobs=-1))]) #regresja liniowa"
   ]
  },
  {
   "cell_type": "code",
   "execution_count": 4,
   "metadata": {},
   "outputs": [],
   "source": [
    "scores = cross_val_score(estimator=pipe_lr,\n",
    "                        X=X_train,\n",
    "                        y=y_train,\n",
    "                        cv=10,\n",
    "                        n_jobs=-1,\n",
    "                        scoring = 'mean_squared_error')"
   ]
  },
  {
   "cell_type": "code",
   "execution_count": 5,
   "metadata": {},
   "outputs": [
    {
     "name": "stdout",
     "output_type": "stream",
     "text": [
      "Wyniki testu krzyżowego: [-5.57923399e+08 -1.04475663e+09 -7.32581027e+08 -1.47467953e+09\n",
      " -1.31666707e+09 -9.16524362e+08 -7.42182362e+08 -7.65216010e+08\n",
      " -3.38998498e+09 -8.08663160e+08]\n",
      "Średnio: -1174917853 +/- 785225035\n"
     ]
    }
   ],
   "source": [
    "print('Wyniki testu krzyżowego: %s\\nŚrednio: %5.f +/- %5.f' %(scores, np.mean(scores), np.std(scores)))"
   ]
  },
  {
   "cell_type": "markdown",
   "metadata": {},
   "source": [
    "### ręcznie"
   ]
  },
  {
   "cell_type": "code",
   "execution_count": 6,
   "metadata": {},
   "outputs": [
    {
     "data": {
      "text/plain": [
       "LinearRegression(copy_X=True, fit_intercept=True, n_jobs=-1, normalize=False)"
      ]
     },
     "execution_count": 6,
     "metadata": {},
     "output_type": "execute_result"
    }
   ],
   "source": [
    "stdsc_X = StandardScaler()\n",
    "pca = PCA(n_components=100)\n",
    "lr = LinearRegression(n_jobs=-1)\n",
    "\n",
    "X_train_std = stdsc_X.fit_transform(X_train)\n",
    "y_train_sc = y_train - np.mean(y_train)\n",
    "\n",
    "X_train_std = pca.fit_transform(X_train_std)\n",
    "\n",
    "lr.fit(X_train_std,y_train_sc)"
   ]
  },
  {
   "cell_type": "code",
   "execution_count": 7,
   "metadata": {},
   "outputs": [
    {
     "name": "stdout",
     "output_type": "stream",
     "text": [
      "Wyniki testu krzyżowego: [-6.30706528e+08 -1.13904608e+09 -1.44260519e+09 -1.63605783e+09\n",
      " -1.21040368e+09 -8.73990610e+08 -1.08286647e+09 -7.48341467e+08\n",
      " -5.65416273e+09 -9.28588406e+08]\n",
      "Średnio: -1534676898.730861 +/- 1403355399.403730\n"
     ]
    }
   ],
   "source": [
    "scores = cross_val_score(estimator=lr,\n",
    "                        X=X_train_std,\n",
    "                        y=y_train_sc,\n",
    "                        cv=10,\n",
    "                        n_jobs=-1,\n",
    "                        scoring = 'mean_squared_error')\n",
    "print('Wyniki testu krzyżowego: %s\\nŚrednio: %f +/- %f' %(scores, np.mean(scores), np.std(scores)))"
   ]
  },
  {
   "cell_type": "markdown",
   "metadata": {},
   "source": [
    "### Prześledźmy działanie naszej kolejki dla jednej cechy"
   ]
  },
  {
   "cell_type": "code",
   "execution_count": 9,
   "metadata": {},
   "outputs": [
    {
     "data": {
      "text/plain": [
       "[<matplotlib.lines.Line2D at 0x1ff77839630>]"
      ]
     },
     "execution_count": 9,
     "metadata": {},
     "output_type": "execute_result"
    },
    {
     "data": {
      "image/png": "[encoded data removed]",
      "text/plain": [
       "<Figure size 432x288 with 1 Axes>"
      ]
     },
     "metadata": {
      "needs_background": "light"
     },
     "output_type": "display_data"
    }
   ],
   "source": [
    "stdsc_X = StandardScaler()\n",
    "pca = PCA(n_components=1)\n",
    "lr = LinearRegression(n_jobs=-1)\n",
    "\n",
    "X_train_std = stdsc_X.fit_transform(X_train)\n",
    "mean_y = np.mean(y_train)\n",
    "y_train_sc = y_train - mean_y\n",
    "\n",
    "X_train_std = pca.fit_transform(X_train_std)\n",
    "\n",
    "lr.fit(X_train_std,y_train_sc)\n",
    "\n",
    "plt.plot(X_train_std,y_train_sc + mean_y,'ro')\n",
    "x = [-10,15]\n",
    "plt.plot(x, x*lr.coef_ + mean_y)"
   ]
  }
 ],
 "metadata": {
  "kernelspec": {
   "display_name": "Python 3",
   "language": "python",
   "name": "python3"
  },
  "language_info": {
   "codemirror_mode": {
    "name": "ipython",
    "version": 3
   },
   "file_extension": ".py",
   "mimetype": "text/x-python",
   "name": "python",
   "nbconvert_exporter": "python",
   "pygments_lexer": "ipython3",
   "version": "3.6.6"
  }
 },
 "nbformat": 4,
 "nbformat_minor": 2
}
