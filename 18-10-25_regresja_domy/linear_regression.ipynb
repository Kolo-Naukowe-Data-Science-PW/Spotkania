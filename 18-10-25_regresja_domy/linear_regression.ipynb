{
 "cells": [
  {
   "cell_type": "markdown",
   "metadata": {},
   "source": [
    "# Regresja liniowa\n",
    "Dane pochodzą z konkursu na kaggle dotyczącym predykcji cen domów: https://www.kaggle.com/c/house-prices-advanced-regression-techniques/data\n",
    "Zajęliśmy się rowiązaniem zaproponowanym przez jednego z użytkowników: https://www.kaggle.com/mosa94/linear-regression-implementations"
   ]
  },
  {
   "cell_type": "code",
   "execution_count": 1,
   "metadata": {},
   "outputs": [],
   "source": [
    "import numpy as np #import biblioteki do obliczeń na macierzach (i tensorach)\n",
    "import pandas as pd #import biblioteki do przetwarzania ramek z danymi"
   ]
  },
  {
   "cell_type": "markdown",
   "metadata": {},
   "source": [
    "### Spójrzmy jak wyglądają dane (dla przykładu 5 najdrożych domów)"
   ]
  },
  {
   "cell_type": "code",
   "execution_count": 2,
   "metadata": {},
   "outputs": [
    {
     "data": {
      "text/html": [
       "<div>\n",
       "<style scoped>\n",
       "    .dataframe tbody tr th:only-of-type {\n",
       "        vertical-align: middle;\n",
       "    }\n",
       "\n",
       "    .dataframe tbody tr th {\n",
       "        vertical-align: top;\n",
       "    }\n",
       "\n",
       "    .dataframe thead th {\n",
       "        text-align: right;\n",
       "    }\n",
       "</style>\n",
       "<table border=\"1\" class=\"dataframe\">\n",
       "  <thead>\n",
       "    <tr style=\"text-align: right;\">\n",
       "      <th></th>\n",
       "      <th>Id</th>\n",
       "      <th>MSSubClass</th>\n",
       "      <th>MSZoning</th>\n",
       "      <th>LotFrontage</th>\n",
       "      <th>LotArea</th>\n",
       "      <th>Street</th>\n",
       "      <th>Alley</th>\n",
       "      <th>LotShape</th>\n",
       "      <th>LandContour</th>\n",
       "      <th>Utilities</th>\n",
       "      <th>...</th>\n",
       "      <th>PoolArea</th>\n",
       "      <th>PoolQC</th>\n",
       "      <th>Fence</th>\n",
       "      <th>MiscFeature</th>\n",
       "      <th>MiscVal</th>\n",
       "      <th>MoSold</th>\n",
       "      <th>YrSold</th>\n",
       "      <th>SaleType</th>\n",
       "      <th>SaleCondition</th>\n",
       "      <th>SalePrice</th>\n",
       "    </tr>\n",
       "  </thead>\n",
       "  <tbody>\n",
       "    <tr>\n",
       "      <th>0</th>\n",
       "      <td>692</td>\n",
       "      <td>60</td>\n",
       "      <td>RL</td>\n",
       "      <td>104.0</td>\n",
       "      <td>21535</td>\n",
       "      <td>Pave</td>\n",
       "      <td>NaN</td>\n",
       "      <td>IR1</td>\n",
       "      <td>Lvl</td>\n",
       "      <td>AllPub</td>\n",
       "      <td>...</td>\n",
       "      <td>0</td>\n",
       "      <td>NaN</td>\n",
       "      <td>NaN</td>\n",
       "      <td>NaN</td>\n",
       "      <td>0</td>\n",
       "      <td>1</td>\n",
       "      <td>2007</td>\n",
       "      <td>WD</td>\n",
       "      <td>Normal</td>\n",
       "      <td>755000</td>\n",
       "    </tr>\n",
       "    <tr>\n",
       "      <th>1</th>\n",
       "      <td>1183</td>\n",
       "      <td>60</td>\n",
       "      <td>RL</td>\n",
       "      <td>160.0</td>\n",
       "      <td>15623</td>\n",
       "      <td>Pave</td>\n",
       "      <td>NaN</td>\n",
       "      <td>IR1</td>\n",
       "      <td>Lvl</td>\n",
       "      <td>AllPub</td>\n",
       "      <td>...</td>\n",
       "      <td>555</td>\n",
       "      <td>Ex</td>\n",
       "      <td>MnPrv</td>\n",
       "      <td>NaN</td>\n",
       "      <td>0</td>\n",
       "      <td>7</td>\n",
       "      <td>2007</td>\n",
       "      <td>WD</td>\n",
       "      <td>Abnorml</td>\n",
       "      <td>745000</td>\n",
       "    </tr>\n",
       "    <tr>\n",
       "      <th>2</th>\n",
       "      <td>1170</td>\n",
       "      <td>60</td>\n",
       "      <td>RL</td>\n",
       "      <td>118.0</td>\n",
       "      <td>35760</td>\n",
       "      <td>Pave</td>\n",
       "      <td>NaN</td>\n",
       "      <td>IR1</td>\n",
       "      <td>Lvl</td>\n",
       "      <td>AllPub</td>\n",
       "      <td>...</td>\n",
       "      <td>0</td>\n",
       "      <td>NaN</td>\n",
       "      <td>NaN</td>\n",
       "      <td>NaN</td>\n",
       "      <td>0</td>\n",
       "      <td>7</td>\n",
       "      <td>2006</td>\n",
       "      <td>WD</td>\n",
       "      <td>Normal</td>\n",
       "      <td>625000</td>\n",
       "    </tr>\n",
       "    <tr>\n",
       "      <th>3</th>\n",
       "      <td>899</td>\n",
       "      <td>20</td>\n",
       "      <td>RL</td>\n",
       "      <td>100.0</td>\n",
       "      <td>12919</td>\n",
       "      <td>Pave</td>\n",
       "      <td>NaN</td>\n",
       "      <td>IR1</td>\n",
       "      <td>Lvl</td>\n",
       "      <td>AllPub</td>\n",
       "      <td>...</td>\n",
       "      <td>0</td>\n",
       "      <td>NaN</td>\n",
       "      <td>NaN</td>\n",
       "      <td>NaN</td>\n",
       "      <td>0</td>\n",
       "      <td>3</td>\n",
       "      <td>2010</td>\n",
       "      <td>New</td>\n",
       "      <td>Partial</td>\n",
       "      <td>611657</td>\n",
       "    </tr>\n",
       "    <tr>\n",
       "      <th>4</th>\n",
       "      <td>804</td>\n",
       "      <td>60</td>\n",
       "      <td>RL</td>\n",
       "      <td>107.0</td>\n",
       "      <td>13891</td>\n",
       "      <td>Pave</td>\n",
       "      <td>NaN</td>\n",
       "      <td>Reg</td>\n",
       "      <td>Lvl</td>\n",
       "      <td>AllPub</td>\n",
       "      <td>...</td>\n",
       "      <td>0</td>\n",
       "      <td>NaN</td>\n",
       "      <td>NaN</td>\n",
       "      <td>NaN</td>\n",
       "      <td>0</td>\n",
       "      <td>1</td>\n",
       "      <td>2009</td>\n",
       "      <td>New</td>\n",
       "      <td>Partial</td>\n",
       "      <td>582933</td>\n",
       "    </tr>\n",
       "  </tbody>\n",
       "</table>\n",
       "<p>5 rows × 81 columns</p>\n",
       "</div>"
      ],
      "text/plain": [
       "     Id  MSSubClass MSZoning  LotFrontage  LotArea Street Alley LotShape  \\\n",
       "0   692          60       RL        104.0    21535   Pave   NaN      IR1   \n",
       "1  1183          60       RL        160.0    15623   Pave   NaN      IR1   \n",
       "2  1170          60       RL        118.0    35760   Pave   NaN      IR1   \n",
       "3   899          20       RL        100.0    12919   Pave   NaN      IR1   \n",
       "4   804          60       RL        107.0    13891   Pave   NaN      Reg   \n",
       "\n",
       "  LandContour Utilities    ...     PoolArea PoolQC  Fence MiscFeature MiscVal  \\\n",
       "0         Lvl    AllPub    ...            0    NaN    NaN         NaN       0   \n",
       "1         Lvl    AllPub    ...          555     Ex  MnPrv         NaN       0   \n",
       "2         Lvl    AllPub    ...            0    NaN    NaN         NaN       0   \n",
       "3         Lvl    AllPub    ...            0    NaN    NaN         NaN       0   \n",
       "4         Lvl    AllPub    ...            0    NaN    NaN         NaN       0   \n",
       "\n",
       "  MoSold YrSold  SaleType  SaleCondition  SalePrice  \n",
       "0      1   2007        WD         Normal     755000  \n",
       "1      7   2007        WD        Abnorml     745000  \n",
       "2      7   2006        WD         Normal     625000  \n",
       "3      3   2010       New        Partial     611657  \n",
       "4      1   2009       New        Partial     582933  \n",
       "\n",
       "[5 rows x 81 columns]"
      ]
     },
     "execution_count": 2,
     "metadata": {},
     "output_type": "execute_result"
    }
   ],
   "source": [
    "pd.read_csv('train.csv').sort_values(by='SalePrice',ascending=False).reset_index(drop=True).head()"
   ]
  },
  {
   "cell_type": "markdown",
   "metadata": {},
   "source": [
    "### Funkcja do zmiany ramki danych na zbiory treningowe i do cross-walidacji"
   ]
  },
  {
   "cell_type": "code",
   "execution_count": 3,
   "metadata": {},
   "outputs": [],
   "source": [
    "def data_processing(data,names_of_x,name_of_y,cv=0.8,seed=123):\n",
    "    data = data.sample(data.shape[0],random_state=seed) #losowa zmiana kolejności wierszy\n",
    "    dataX = np.array(data.loc[:,names_of_x]) #wybranie odpowiednich kolumn\n",
    "    dataX = np.c_[np.ones(dataX.shape[0]),dataX] #dodanie kolumny jedynek\n",
    "    #tylko, gdy names_of_x ma 1 element - też dodanie jedynek\n",
    "    #dataX = np.stack((np.ones(np.shape(dataX)[0]),dataX),axis=1)\n",
    "    dataY = np.array(data.loc[:,name_of_y]) #wektor wartości\n",
    "    \n",
    "    trainX = dataX[0:int(data.shape[0]*cv),:] #dane treningowe X\n",
    "    cvX = dataX[int(data.shape[0]*cv):data.shape[0],:] #dane do cross-walidacji X\n",
    "    trainY = dataY[0:int(data.shape[0]*cv)] #dane treningowe Y\n",
    "    cvY = dataY[int(data.shape[0]*cv):data.shape[0]] #dane do cross-walidacji Y\n",
    "    return(trainX, trainY, cvX, cvY)\n",
    "\n",
    "train = pd.read_csv('train.csv')\n",
    "(trainX, trainY, cvX, cvY) = data_processing(train,('LotArea'),'SalePrice')"
   ]
  },
  {
   "cell_type": "markdown",
   "metadata": {},
   "source": [
    "### Obliczmy model regresji liniowej i porównajmy go z losowym modelem w celu sprawdzenia, czy regresja logistyczna nie zwraca losowych wartości."
   ]
  },
  {
   "cell_type": "code",
   "execution_count": 21,
   "metadata": {},
   "outputs": [
    {
     "data": {
      "text/plain": [
       "(76896.19119492351, 11786952.080151206)"
      ]
     },
     "execution_count": 21,
     "metadata": {},
     "output_type": "execute_result"
    }
   ],
   "source": [
    "model = np.linalg.inv(trainX.transpose() @ trainX) @ trainX.transpose() @ trainY\n",
    "random = np.random.rand(1,2)*1000\n",
    "def square_mean(X, Y, model):\n",
    "    return np.mean((X @ model.transpose() - Y) **2) ** (1/2)\n",
    "square_mean(trainX,trainY,model),square_mean(trainX,trainY,random)"
   ]
  },
  {
   "cell_type": "markdown",
   "metadata": {},
   "source": [
    "Widzimy, że błąd losowego modelu jest \"zawsze\" gorszy niż obliczonego, więc można sądzić, że dobrze zaimplementowaliśmy regresję logistyczną. Jednak model powinno się testować na zbiorze do cross-walidacji, więc teraz to sprawdźmy."
   ]
  },
  {
   "cell_type": "code",
   "execution_count": 22,
   "metadata": {},
   "outputs": [
    {
     "data": {
      "text/plain": [
       "(75627.79987938722, 10429811.704608858)"
      ]
     },
     "execution_count": 22,
     "metadata": {},
     "output_type": "execute_result"
    }
   ],
   "source": [
    "square_mean(cvX,cvY,model),square_mean(cvX,cvY,random)"
   ]
  },
  {
   "cell_type": "markdown",
   "metadata": {},
   "source": [
    "Model radzi sobie lepiej na zbiorze do cross-walidacji niż na zbiorze treningowym co jest bardzo dziwne, ale akceptowalne ze względu na zbliżony błąd\n",
    "Zwizualizujmy teraz dane i model w postaci dopasowanej linii"
   ]
  },
  {
   "cell_type": "code",
   "execution_count": 23,
   "metadata": {},
   "outputs": [],
   "source": [
    "import matplotlib.pyplot as plt #biblioteka do rysowania wykresów"
   ]
  },
  {
   "cell_type": "code",
   "execution_count": 24,
   "metadata": {},
   "outputs": [
    {
     "data": {
      "text/plain": [
       "[<matplotlib.lines.Line2D at 0x112aeaa90>]"
      ]
     },
     "execution_count": 24,
     "metadata": {},
     "output_type": "execute_result"
    },
    {
     "data": {
      "image/png": "[encoded data removed]",
      "text/plain": [
       "<Figure size 432x288 with 1 Axes>"
      ]
     },
     "metadata": {
      "needs_background": "light"
     },
     "output_type": "display_data"
    }
   ],
   "source": [
    "plt.plot(trainX,trainY,'ro') #punkty oznaczające domy\n",
    "x = np.array([0,200000]) #x i y potrzebne do zrobienia linii\n",
    "y = model[1]*x + model[0]\n",
    "plt.plot(x,y) #dodanie linii"
   ]
  },
  {
   "cell_type": "markdown",
   "metadata": {
    "collapsed": true
   },
   "source": [
    "Na wykresie można zobaczyć, że mamy kilka 'outlierów', do których model stara się dopasować linię - spróbujmy je usunąć"
   ]
  },
  {
   "cell_type": "code",
   "execution_count": 25,
   "metadata": {},
   "outputs": [
    {
     "name": "stdout",
     "output_type": "stream",
     "text": [
      "Model z outlierami na zbiorze treningowym 78168.23228608428 oraz model bez outlierow 74606.81949514126\n",
      "Model z outlierami na zbiorze cross-walidacji 65293.46534522148 oraz model bez outlierow 64499.54476587264\n"
     ]
    },
    {
     "data": {
      "text/plain": [
       "[<matplotlib.lines.Line2D at 0x10faff278>]"
      ]
     },
     "execution_count": 25,
     "metadata": {},
     "output_type": "execute_result"
    },
    {
     "data": {
      "image/png": "[encoded data removed]",
      "text/plain": [
       "<Figure size 432x288 with 1 Axes>"
      ]
     },
     "metadata": {
      "needs_background": "light"
     },
     "output_type": "display_data"
    }
   ],
   "source": [
    "train = pd.read_csv('train.csv')\n",
    "train = train.loc[train.LotArea<45000,:]\n",
    "(trainX, trainY, cvX, cvY) = data_processing(train,('LotArea'),'SalePrice')\n",
    "model_new = np.linalg.inv(trainX.transpose() @ trainX) @ trainX.transpose() @ trainY\n",
    "print('Model z outlierami na zbiorze treningowym {0} oraz model bez outlierow {1}'.format(square_mean(trainX,trainY,model),square_mean(trainX,trainY,model_new)))\n",
    "print('Model z outlierami na zbiorze cross-walidacji {0} oraz model bez outlierow {1}'.format(square_mean(cvX,cvY,model),square_mean(cvX,cvY,model_new)))\n",
    "plt.plot(trainX,trainY,'ro') #punkty oznaczające domy\n",
    "x = np.array([0,45000]) #x i y potrzebne do zrobienia linii\n",
    "y = model[1]*x + model[0]\n",
    "plt.plot(x,y) #dodanie linii"
   ]
  },
  {
   "cell_type": "markdown",
   "metadata": {},
   "source": [
    "Jak widać usunięcie części danych pozwoli lepiej dopasować prostą. Niepokojące są również punkty, które na osi X mają wartość 0. Mogą to być na przykład wartości NA - ich też powinno się pozbyć."
   ]
  },
  {
   "cell_type": "markdown",
   "metadata": {},
   "source": [
    "## TO DO\n",
    "Można zrobić jeszcze wiele rzeczy na tych danych, np:\n",
    "- Sprawdź jak zachowuje się model po usunięciu punktów o współrzędnej X równej 0\n",
    "- Dodaj więcej zmiennych i zwizualizuj dane używając zmniejszania wymiarów danych (np. PCA)\n",
    "- Stwórz klasę linear_regression na wzór modeli z scikitlearn. To znaczy - zaimplementuj metody fit i predict, a w polach klasy przechowuj parametry regresji.\n",
    "- Korzystając z biblioteki tensorflow/keras/scikitlearn wytrenuj sieć neuronową lub inny model uczenia maszynowego, który będzie przewidywać SalePrice."
   ]
  }
 ],
 "metadata": {
  "kernelspec": {
   "display_name": "Python 3",
   "language": "python",
   "name": "python3"
  },
  "language_info": {
   "codemirror_mode": {
    "name": "ipython",
    "version": 3
   },
   "file_extension": ".py",
   "mimetype": "text/x-python",
   "name": "python",
   "nbconvert_exporter": "python",
   "pygments_lexer": "ipython3",
   "version": "3.6.4"
  }
 },
 "nbformat": 4,
 "nbformat_minor": 2
}
